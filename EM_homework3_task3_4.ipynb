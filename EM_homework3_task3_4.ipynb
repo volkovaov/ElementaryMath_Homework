{
 "cells": [
  {
   "cell_type": "code",
   "execution_count": 2,
   "metadata": {},
   "outputs": [],
   "source": [
    "from scipy.optimize import fsolve\n",
    "import numpy as np\n",
    "import matplotlib.pyplot as plt\n",
    "%matplotlib inline"
   ]
  },
  {
   "cell_type": "code",
   "execution_count": 13,
   "metadata": {},
   "outputs": [
    {
     "name": "stdout",
     "output_type": "stream",
     "text": [
      "-1.5818353528959237 1.502203083671323\n",
      "2.6181455730830665 5.854686241850252\n",
      "4.200105841149688 16.6408890768628\n"
     ]
    }
   ],
   "source": [
    "def calc (p):\n",
    "    x, y = p\n",
    "    return (x**2 - 1 - y, np.exp(x) + x - x*y -1)\n",
    "x1, y1 = fsolve(calc, (-2, 3))\n",
    "print(x1, y1)\n",
    "\n",
    "x1, y1 = fsolve(calc, (2, 5))\n",
    "print(x1, y1)\n",
    "\n",
    "x1, y1 = fsolve(calc, (4, 15))\n",
    "print(x1, y1)"
   ]
  },
  {
   "cell_type": "code",
   "execution_count": 4,
   "metadata": {},
   "outputs": [
    {
     "data": {
      "image/png": "[encoded data removed]",
      "text/plain": [
       "<Figure size 432x288 with 1 Axes>"
      ]
     },
     "metadata": {
      "needs_background": "light"
     },
     "output_type": "display_data"
    }
   ],
   "source": [
    "x = np.linspace(-3, 5, 100)\n",
    "plt.plot(x, (x**2 - 1), color=\"red\")\n",
    "plt.plot(x, (np.exp(x) + x - 1)/x, color=\"blue\")\n",
    "plt.xlabel(\"x\")\n",
    "plt.ylabel(\"y\")\n",
    "plt.grid(True)"
   ]
  }
 ],
 "metadata": {
  "kernelspec": {
   "display_name": "Python 3",
   "language": "python",
   "name": "python3"
  },
  "language_info": {
   "codemirror_mode": {
    "name": "ipython",
    "version": 3
   },
   "file_extension": ".py",
   "mimetype": "text/x-python",
   "name": "python",
   "nbconvert_exporter": "python",
   "pygments_lexer": "ipython3",
   "version": "3.8.5"
  }
 },
 "nbformat": 4,
 "nbformat_minor": 4
}
