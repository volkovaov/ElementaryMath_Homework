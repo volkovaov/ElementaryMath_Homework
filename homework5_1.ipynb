{
 "cells": [
  {
   "cell_type": "code",
   "execution_count": 1,
   "metadata": {},
   "outputs": [],
   "source": [
    "%matplotlib inline\n",
    "import numpy as np"
   ]
  },
  {
   "cell_type": "code",
   "execution_count": null,
   "metadata": {},
   "outputs": [],
   "source": [
    "%matplotlib inline\n",
    "import numpy as np\n",
    "for i in range(0,37):\n",
    "    a = input()\n",
    "    x = np.random.uniform(0,37)\n",
    "    print(x)\n",
    "    if x == 0:\n",
    "        print(\"зеро\")\n",
    "    elif (1<=x<=7 or 12<=x<= 16 or 19<=x<= 27 or 30<=x<= 36):\n",
    "        print(\"красное\")   \n",
    "    else:\n",
    "        print(\"черное\")"
   ]
  }
 ],
 "metadata": {
  "kernelspec": {
   "display_name": "Python 3",
   "language": "python",
   "name": "python3"
  },
  "language_info": {
   "codemirror_mode": {
    "name": "ipython",
    "version": 3
   },
   "file_extension": ".py",
   "mimetype": "text/x-python",
   "name": "python",
   "nbconvert_exporter": "python",
   "pygments_lexer": "ipython3",
   "version": "3.8.5"
  }
 },
 "nbformat": 4,
 "nbformat_minor": 4
}
