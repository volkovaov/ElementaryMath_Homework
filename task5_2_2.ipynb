{
 "cells": [
  {
   "cell_type": "code",
   "execution_count": 1,
   "metadata": {},
   "outputs": [],
   "source": [
    "%matplotlib inline\n",
    "import numpy as np\n",
    "import matplotlib.pyplot as plt\n",
    "import matplotlib.mlab as mlab"
   ]
  },
  {
   "cell_type": "code",
   "execution_count": 26,
   "metadata": {},
   "outputs": [
    {
     "name": "stdout",
     "output_type": "stream",
     "text": [
      "4.060223286608446\n",
      "4.16759956426565\n",
      "4.99550611168813\n",
      "5.073190474771983\n",
      "5.187706472501912\n",
      "5.471809374386395\n",
      "5.649884669459382\n",
      "5.795761557888114\n",
      "6.150903594518058\n",
      "6.683232176919403\n"
     ]
    },
    {
     "data": {
      "text/plain": [
       "Text(0.5, 1.0, 'Histogram')"
      ]
     },
     "execution_count": 26,
     "metadata": {},
     "output_type": "execute_result"
    },
    {
     "data": {
      "image/png": "[encoded data removed]",
      "text/plain": [
       "<Figure size 432x288 with 1 Axes>"
      ]
     },
     "metadata": {
      "needs_background": "light"
     },
     "output_type": "display_data"
    }
   ],
   "source": [
    "my_list = []\n",
    "\n",
    "for t in range(0,10):\n",
    "    x = np.random.rand(10)\n",
    "    sum_x = sum(x)\n",
    "    my_list.append(sum_x)\n",
    "my_list.sort()\n",
    "#выведем значение х в столбик, для наглядности\n",
    "for x in my_list:\n",
    "    print(x)\n",
    "\n",
    "num_bins = 5\n",
    "n, bins, patches=plt.hist(my_list, num_bins)\n",
    "plt.xlabel(\"x\")\n",
    "plt.ylabel(\"Frequency\")\n",
    "plt.title(\"Histogram\")\n"
   ]
  }
 ],
 "metadata": {
  "kernelspec": {
   "display_name": "Python 3",
   "language": "python",
   "name": "python3"
  },
  "language_info": {
   "codemirror_mode": {
    "name": "ipython",
    "version": 3
   },
   "file_extension": ".py",
   "mimetype": "text/x-python",
   "name": "python",
   "nbconvert_exporter": "python",
   "pygments_lexer": "ipython3",
   "version": "3.8.5"
  }
 },
 "nbformat": 4,
 "nbformat_minor": 4
}
