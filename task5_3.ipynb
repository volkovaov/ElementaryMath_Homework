{
 "cells": [
  {
   "cell_type": "code",
   "execution_count": 1,
   "metadata": {},
   "outputs": [],
   "source": [
    "import numpy as np\n",
    "import itertools\n",
    "import math"
   ]
  },
  {
   "cell_type": "code",
   "execution_count": 55,
   "metadata": {},
   "outputs": [
    {
     "name": "stdout",
     "output_type": "stream",
     "text": [
      "4 10 0.4\n"
     ]
    }
   ],
   "source": [
    "#реализуем расчет методом Монте-Карло\n",
    "k, n = 0, 10\n",
    "a = np.random.randint(0, 2, n)\n",
    "b = np.random.randint(0, 2, n)\n",
    "c = np.random.randint(0, 2, n)\n",
    "d = np.random.randint(0, 2, n)\n",
    "x = a + b + c + d\n",
    "for i in range(0, n):\n",
    "    if x[i] == 2:\n",
    "        k = k + 1\n",
    "print(k, n, k / n)"
   ]
  },
  {
   "cell_type": "code",
   "execution_count": 49,
   "metadata": {},
   "outputs": [
    {
     "name": "stdout",
     "output_type": "stream",
     "text": [
      "375660 1000000 0.37566\n"
     ]
    }
   ],
   "source": [
    "#реализуем расчет методом Монте-Карло\n",
    "k, n = 0, 1000000\n",
    "a = np.random.randint(0, 2, n)\n",
    "b = np.random.randint(0, 2, n)\n",
    "c = np.random.randint(0, 2, n)\n",
    "d = np.random.randint(0, 2, n)\n",
    "x = a + b + c + d\n",
    "for i in range(0, n):\n",
    "    if x[i] == 2:\n",
    "        k = k + 1\n",
    "print(k, n, k / n)"
   ]
  },
  {
   "cell_type": "code",
   "execution_count": 56,
   "metadata": {},
   "outputs": [
    {
     "name": "stdout",
     "output_type": "stream",
     "text": [
      "2 4 0.375\n"
     ]
    }
   ],
   "source": [
    "#реализуем расчет по формуле Бернулли (исходя из данных: n = 4 испытания, k = 2 успеха)\n",
    "n = 4\n",
    "k = 2\n",
    "c_n_k = ((math.factorial(n)/(math.factorial(k)*math.factorial(n - k)))/2**n)\n",
    "print(k, n, c_n_k)"
   ]
  },
  {
   "cell_type": "code",
   "execution_count": null,
   "metadata": {},
   "outputs": [],
   "source": [
    "#сравнивая результаты, полученные методом Монте-Карло и по формуле Бернулли, можем сделать вывод, \n",
    "#что точность расчета, выполненного методом М-К:\n",
    "#1. при небольшом количестве испытаний имеет определенную погрешность\n",
    "#2. приближается к результату расчета по формуле Бернулли при количестве испытаний 10**6"
   ]
  },
  {
   "cell_type": "code",
   "execution_count": 57,
   "metadata": {},
   "outputs": [
    {
     "name": "stdout",
     "output_type": "stream",
     "text": [
      "73 100 1.5125249815960647e-06\n"
     ]
    }
   ],
   "source": [
    "#задание 3.2\n",
    "#повторим расчеты по формуле Бернулли (исходя из других данных: n = 100 испытаний, k = 73 успеха)\n",
    "n = 100\n",
    "k = 73\n",
    "c_n_k = ((math.factorial(n)/(math.factorial(k)*math.factorial(n - k)))/2**n)\n",
    "print(k, n, c_n_k)"
   ]
  }
 ],
 "metadata": {
  "kernelspec": {
   "display_name": "Python 3",
   "language": "python",
   "name": "python3"
  },
  "language_info": {
   "codemirror_mode": {
    "name": "ipython",
    "version": 3
   },
   "file_extension": ".py",
   "mimetype": "text/x-python",
   "name": "python",
   "nbconvert_exporter": "python",
   "pygments_lexer": "ipython3",
   "version": "3.8.5"
  }
 },
 "nbformat": 4,
 "nbformat_minor": 4
}
