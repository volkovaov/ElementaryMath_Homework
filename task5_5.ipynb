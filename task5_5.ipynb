{
 "cells": [
  {
   "cell_type": "code",
   "execution_count": 16,
   "metadata": {},
   "outputs": [],
   "source": [
    "import numpy as np\n",
    "import matplotlib.pyplot as plt\n",
    "import math"
   ]
  },
  {
   "cell_type": "code",
   "execution_count": 17,
   "metadata": {},
   "outputs": [
    {
     "data": {
      "image/png": "[encoded data removed]",
      "text/plain": [
       "<Figure size 432x288 with 1 Axes>"
      ]
     },
     "metadata": {
      "needs_background": "light"
     },
     "output_type": "display_data"
    }
   ],
   "source": [
    "n = 100\n",
    "r = 0.9\n",
    "\n",
    "x = np.random.rand(n)\n",
    "y = r*2*x + (1 - 0.5*r)*np.random.rand(n)\n",
    "plt.plot(x, y, \"o\")\n",
    "plt.xlabel(\"x\")\n",
    "plt.ylabel(\"y\")\n",
    "plt.grid(True)\n",
    "plt.show()"
   ]
  },
  {
   "cell_type": "code",
   "execution_count": 22,
   "metadata": {},
   "outputs": [
    {
     "name": "stdout",
     "output_type": "stream",
     "text": [
      "0.5202018088535779\n",
      "1.2093962151737174\n",
      "0.9512747743205164\n"
     ]
    }
   ],
   "source": [
    "#рассчитать коэф.корреляции по формуле\n",
    "#для этого постараемся ее упростить: средние величины x_m и y_m рассчитаем отдельно\n",
    "\n",
    "x = np.random.rand(n)\n",
    "x_mean = (sum(x) / n)\n",
    "print(x_mean)\n",
    "\n",
    "y = r*2*x + (1 - 0.5*r)*np.random.rand(n)\n",
    "y_mean = (sum(y) / n)\n",
    "print(y_mean)\n",
    "\n",
    "corr_coef = (sum((x - x_mean)*(y - y_mean)))/math.sqrt((sum((x - x_mean)**2))*(sum((y - y_mean)**2)))\n",
    "                                                \n",
    "print(corr_coef)"
   ]
  },
  {
   "cell_type": "code",
   "execution_count": 5,
   "metadata": {},
   "outputs": [
    {
     "name": "stdout",
     "output_type": "stream",
     "text": [
      "[[1.         0.94853044]\n",
      " [0.94853044 1.        ]]\n"
     ]
    }
   ],
   "source": [
    "c = np.corrcoef(x,y)\n",
    "print(c)"
   ]
  },
  {
   "cell_type": "code",
   "execution_count": null,
   "metadata": {},
   "outputs": [],
   "source": []
  }
 ],
 "metadata": {
  "kernelspec": {
   "display_name": "Python 3",
   "language": "python",
   "name": "python3"
  },
  "language_info": {
   "codemirror_mode": {
    "name": "ipython",
    "version": 3
   },
   "file_extension": ".py",
   "mimetype": "text/x-python",
   "name": "python",
   "nbconvert_exporter": "python",
   "pygments_lexer": "ipython3",
   "version": "3.8.5"
  }
 },
 "nbformat": 4,
 "nbformat_minor": 4
}
